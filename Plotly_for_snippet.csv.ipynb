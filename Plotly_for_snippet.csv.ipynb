{
 "cells": [
  {
   "cell_type": "code",
   "execution_count": 1,
   "metadata": {},
   "outputs": [],
   "source": [
    "import pandas as pd \n",
    "import numpy as np \n",
    "from datetime import datetime, timedelta\n",
    "import plotly.graph_objs as go\n",
    "import dash\n",
    "import dash_core_components as dcc\n",
    "import dash_html_components as html\n",
    "import dash_auth\n",
    "from plotly.subplots import make_subplots\n",
    "from dash.dependencies import Input, Output"
   ]
  },
  {
   "cell_type": "code",
   "execution_count": null,
   "metadata": {},
   "outputs": [],
   "source": [
    "#Prepare the data from CSV/Dataframe"
   ]
  },
  {
   "cell_type": "code",
   "execution_count": 2,
   "metadata": {},
   "outputs": [],
   "source": [
    "df = pd.read_csv(\"data/snippet.csv\")\n",
    "df['now'] = df['now'].apply(str)\n",
    "df['now'] = df['now'].apply(lambda x: datetime(year=int(x[0:4]), month=int(x[4:6]), day=int(x[6:8]), hour=int(x[8:10]), minute=int(x[10:])))"
   ]
  },
  {
   "cell_type": "code",
   "execution_count": 3,
   "metadata": {},
   "outputs": [],
   "source": [
    "df2 = df.loc[(df[\"indic\"] >= 61) & (df[\"indic\"] <= 101)]"
   ]
  },
  {
   "cell_type": "code",
   "execution_count": 4,
   "metadata": {},
   "outputs": [],
   "source": [
    "df1 = df.loc[df[\"now\"] == \"2020-06-17 12:52:00\"]"
   ]
  },
  {
   "cell_type": "code",
   "execution_count": 5,
   "metadata": {},
   "outputs": [],
   "source": [
    "USERNAME_PASSWORD_PAIRS = [['snippet2', 'test']]"
   ]
  },
  {
   "cell_type": "code",
   "execution_count": 7,
   "metadata": {},
   "outputs": [
    {
     "name": "stdout",
     "output_type": "stream",
     "text": [
      "Dash is running on http://127.0.0.1:8050/\n",
      "\n",
      " Warning: This is a development server. Do not use app.run_server\n",
      " in production, use a production WSGI server like gunicorn instead.\n",
      "\n",
      " * Serving Flask app \"__main__\" (lazy loading)\n",
      " * Environment: production\n",
      "   WARNING: This is a development server. Do not use it in a production deployment.\n",
      "   Use a production WSGI server instead.\n",
      " * Debug mode: off\n"
     ]
    },
    {
     "name": "stderr",
     "output_type": "stream",
     "text": [
      " * Running on http://127.0.0.1:8050/ (Press CTRL+C to quit)\n",
      "127.0.0.1 - - [24/Jun/2020 14:32:45] \"\u001b[1m\u001b[31mGET / HTTP/1.1\u001b[0m\" 401 -\n",
      "127.0.0.1 - - [24/Jun/2020 14:33:07] \"\u001b[37mGET / HTTP/1.1\u001b[0m\" 200 -\n",
      "127.0.0.1 - - [24/Jun/2020 14:33:07] \"\u001b[37mGET /_dash-dependencies HTTP/1.1\u001b[0m\" 200 -\n",
      "127.0.0.1 - - [24/Jun/2020 14:33:07] \"\u001b[37mGET /_favicon.ico?v=1.13.3 HTTP/1.1\u001b[0m\" 200 -\n",
      "127.0.0.1 - - [24/Jun/2020 14:33:07] \"\u001b[37mGET /_dash-layout HTTP/1.1\u001b[0m\" 200 -\n"
     ]
    },
    {
     "name": "stdout",
     "output_type": "stream",
     "text": [
      "Exception on /_dash-update-component [POST]\n",
      "Traceback (most recent call last):\n",
      "  File \"C:\\Users\\altz7\\Anaconda3\\lib\\site-packages\\flask\\app.py\", line 2446, in wsgi_app\n",
      "    response = self.full_dispatch_request()\n",
      "  File \"C:\\Users\\altz7\\Anaconda3\\lib\\site-packages\\flask\\app.py\", line 1951, in full_dispatch_request\n",
      "    rv = self.handle_user_exception(e)\n",
      "  File \"C:\\Users\\altz7\\Anaconda3\\lib\\site-packages\\flask\\app.py\", line 1820, in handle_user_exception\n",
      "    reraise(exc_type, exc_value, tb)\n",
      "  File \"C:\\Users\\altz7\\Anaconda3\\lib\\site-packages\\flask\\_compat.py\", line 39, in reraise\n",
      "    raise value\n",
      "  File \"C:\\Users\\altz7\\Anaconda3\\lib\\site-packages\\flask\\app.py\", line 1949, in full_dispatch_request\n",
      "    rv = self.dispatch_request()\n",
      "  File \"C:\\Users\\altz7\\Anaconda3\\lib\\site-packages\\flask\\app.py\", line 1935, in dispatch_request\n",
      "    return self.view_functions[rule.endpoint](**req.view_args)\n",
      "  File \"C:\\Users\\altz7\\Anaconda3\\lib\\site-packages\\dash_auth\\basic_auth.py\", line 33, in wrap\n",
      "    response = f(*args, **kwargs)\n",
      "  File \"C:\\Users\\altz7\\Anaconda3\\lib\\site-packages\\dash\\dash.py\", line 1031, in dispatch\n",
      "    response.set_data(func(*args, outputs_list=outputs_list))\n",
      "  File \"C:\\Users\\altz7\\Anaconda3\\lib\\site-packages\\dash\\dash.py\", line 966, in add_context\n",
      "    output_value = func(*args, **kwargs)  # %% callback invoked %%\n",
      "  File \"<ipython-input-7-0ea9aa9ebe95>\", line 59, in callback_graph\n",
      "    v_index = hoverData['points'][0]['x']\n",
      "TypeError: 'NoneType' object is not subscriptable\n"
     ]
    },
    {
     "name": "stderr",
     "output_type": "stream",
     "text": [
      "127.0.0.1 - - [24/Jun/2020 14:33:08] \"\u001b[1m\u001b[35mPOST /_dash-update-component HTTP/1.1\u001b[0m\" 500 -\n",
      "127.0.0.1 - - [24/Jun/2020 14:33:16] \"\u001b[37mPOST /_dash-update-component HTTP/1.1\u001b[0m\" 200 -\n",
      "127.0.0.1 - - [24/Jun/2020 14:33:16] \"\u001b[37mPOST /_dash-update-component HTTP/1.1\u001b[0m\" 200 -\n",
      "127.0.0.1 - - [24/Jun/2020 14:33:16] \"\u001b[37mPOST /_dash-update-component HTTP/1.1\u001b[0m\" 200 -\n",
      "127.0.0.1 - - [24/Jun/2020 14:33:16] \"\u001b[37mPOST /_dash-update-component HTTP/1.1\u001b[0m\" 200 -\n",
      "127.0.0.1 - - [24/Jun/2020 14:33:16] \"\u001b[37mPOST /_dash-update-component HTTP/1.1\u001b[0m\" 200 -\n",
      "127.0.0.1 - - [24/Jun/2020 14:33:16] \"\u001b[37mPOST /_dash-update-component HTTP/1.1\u001b[0m\" 200 -\n",
      "127.0.0.1 - - [24/Jun/2020 14:33:16] \"\u001b[37mPOST /_dash-update-component HTTP/1.1\u001b[0m\" 200 -\n",
      "127.0.0.1 - - [24/Jun/2020 14:33:17] \"\u001b[37mPOST /_dash-update-component HTTP/1.1\u001b[0m\" 200 -\n",
      "127.0.0.1 - - [24/Jun/2020 14:33:17] \"\u001b[37mPOST /_dash-update-component HTTP/1.1\u001b[0m\" 200 -\n",
      "127.0.0.1 - - [24/Jun/2020 14:33:17] \"\u001b[37mPOST /_dash-update-component HTTP/1.1\u001b[0m\" 200 -\n",
      "127.0.0.1 - - [24/Jun/2020 14:33:17] \"\u001b[37mPOST /_dash-update-component HTTP/1.1\u001b[0m\" 200 -\n",
      "127.0.0.1 - - [24/Jun/2020 14:33:17] \"\u001b[37mPOST /_dash-update-component HTTP/1.1\u001b[0m\" 200 -\n",
      "127.0.0.1 - - [24/Jun/2020 14:33:17] \"\u001b[37mPOST /_dash-update-component HTTP/1.1\u001b[0m\" 200 -\n",
      "127.0.0.1 - - [24/Jun/2020 14:33:17] \"\u001b[37mPOST /_dash-update-component HTTP/1.1\u001b[0m\" 200 -\n",
      "127.0.0.1 - - [24/Jun/2020 14:33:17] \"\u001b[37mPOST /_dash-update-component HTTP/1.1\u001b[0m\" 200 -\n",
      "127.0.0.1 - - [24/Jun/2020 14:33:18] \"\u001b[37mPOST /_dash-update-component HTTP/1.1\u001b[0m\" 200 -\n",
      "127.0.0.1 - - [24/Jun/2020 14:33:19] \"\u001b[37mPOST /_dash-update-component HTTP/1.1\u001b[0m\" 200 -\n",
      "127.0.0.1 - - [24/Jun/2020 14:33:19] \"\u001b[37mPOST /_dash-update-component HTTP/1.1\u001b[0m\" 200 -\n",
      "127.0.0.1 - - [24/Jun/2020 14:33:19] \"\u001b[37mPOST /_dash-update-component HTTP/1.1\u001b[0m\" 200 -\n",
      "127.0.0.1 - - [24/Jun/2020 14:33:20] \"\u001b[37mPOST /_dash-update-component HTTP/1.1\u001b[0m\" 200 -\n",
      "127.0.0.1 - - [24/Jun/2020 14:33:20] \"\u001b[37mPOST /_dash-update-component HTTP/1.1\u001b[0m\" 200 -\n",
      "127.0.0.1 - - [24/Jun/2020 14:33:20] \"\u001b[37mPOST /_dash-update-component HTTP/1.1\u001b[0m\" 200 -\n"
     ]
    }
   ],
   "source": [
    "#Configuring the graphs\n",
    "\n",
    "app = dash.Dash()\n",
    "auth = dash_auth.BasicAuth(app,USERNAME_PASSWORD_PAIRS)\n",
    "server = app.server\n",
    "\n",
    "fig1 = make_subplots(rows=2, cols=1)\n",
    "trace1 = go.Scatter(x = df[\"now\"], y = df[\"act\"], mode=\"lines+markers\", name=\"Act/Now\") \n",
    "trace2 = go.Bar(x = df2[\"now\"], y = df2[\"indic\"], name=\"Indic/Now\")\n",
    "fig1.append_trace(trace1, 1, 1)\n",
    "fig1.append_trace(trace2, 2, 1)\n",
    "fig1['layout'].update(height=600, width=600, title=\"Subplots\")\n",
    "fig1['layout']['xaxis']['title']='Now column'\n",
    "fig1['layout']['xaxis2']['title']='Now column'\n",
    "fig1['layout']['yaxis']['title']='Act column'\n",
    "fig1['layout']['yaxis2']['title']='Indic column, values from 61 to 101'\n",
    "\n",
    "app.layout = html.Div([\n",
    "            html.Div([dcc.Graph(\n",
    "                        id=\"test_line\",\n",
    "                        figure= {\"data\": [go.Scatter(x = df[\"now\"],\n",
    "                            y = df[\"act\"],\n",
    "                            mode=\"lines+markers\",\n",
    "                            marker=dict(\n",
    "                                    size=10,\n",
    "                                    color='#32a852',\n",
    "                                    symbol = 0,\n",
    "                                    line={'width':2, 'color':'#32a852'}\n",
    "                                    ))],\n",
    "                                 \"layout\": go.Layout(\n",
    "                                     title=\"Test plot for Snippet_2 data\", \n",
    "                                     xaxis={\"title\":\"Now column\"}, \n",
    "                                     yaxis=dict(title=\"Act column\"), \n",
    "                                     hovermode=\"closest\", \n",
    "                                     plot_bgcolor=\"#fcfffd\")}\n",
    "                )], style={'width':'50%','display':'inline-block'}),\n",
    "            html.Div([dcc.Graph(id=\"test_line_2\",\n",
    "                            figure= {\"data\": \n",
    "                                [go.Scatter(x = df1[\"minback\"], \n",
    "                                y = df1[\"expK\"], \n",
    "                                mode=\"lines+markers\",\n",
    "                                marker=dict(\n",
    "                                    size=7,\n",
    "                                    color='#17a1e6',\n",
    "                                    symbol = 0,\n",
    "                                    line={'width':2, 'color':'#17a1e6'}\n",
    "                            ))],\n",
    "                            \"layout\": go.Layout\n",
    "                                     (title=\"Test plot for Minback / Expk for biggest value of 'Now_column (12:52)'\", \n",
    "                                      xaxis={\"title\":\"Minback column\"}, \n",
    "                                      yaxis=dict(title=\"Expk column\"), \n",
    "                                      hovermode=\"closest\", \n",
    "                                      plot_bgcolor=\"#e8eced\")}\n",
    "                )], style={'width':'50%','display':'inline-block'}),\n",
    "            html.Div([dcc.Graph(figure=fig1, id='my-figure')])\n",
    "])\n",
    "\n",
    "    \n",
    "@app.callback(Output('test_line_2', 'figure'), [Input('test_line', 'hoverData')])\n",
    "def callback_graph(hoverData):\n",
    "    v_index = hoverData['points'][0]['x'] #this line represent data on which basis while hoover - the second graph will be changing\n",
    "    df1 = df.loc[df[\"now\"] == v_index]\n",
    "    fig = {\n",
    "        'data': [go.Scatter(x = df1[\"minback\"],\n",
    "                y = df1[\"expK\"], \n",
    "                mode=\"lines+markers\",\n",
    "                marker=dict(\n",
    "                        size=7,\n",
    "                        color='#17a1e6',\n",
    "                        symbol = 0,\n",
    "                        line={'width':2, 'color':'#17a1e6'}\n",
    "                ))],\n",
    "        'layout': go.Layout\n",
    "                (title=\"Test plot for Minback / Expk for value of 'Now_column of <b>{}</b>'\".format(v_index[11:]), \n",
    "                xaxis={\"title\":\"Minback column\"}, \n",
    "                yaxis=dict(title=\"Expk column\"), \n",
    "                hovermode=\"closest\", \n",
    "                plot_bgcolor=\"#e8eced\")\n",
    "    }\n",
    "    return fig\n",
    "\n",
    "if __name__ == \"__main__\":\n",
    "    app.run_server()"
   ]
  }
 ],
 "metadata": {
  "kernelspec": {
   "display_name": "Python 3",
   "language": "python",
   "name": "python3"
  },
  "language_info": {
   "codemirror_mode": {
    "name": "ipython",
    "version": 3
   },
   "file_extension": ".py",
   "mimetype": "text/x-python",
   "name": "python",
   "nbconvert_exporter": "python",
   "pygments_lexer": "ipython3",
   "version": "3.7.4"
  }
 },
 "nbformat": 4,
 "nbformat_minor": 2
}
